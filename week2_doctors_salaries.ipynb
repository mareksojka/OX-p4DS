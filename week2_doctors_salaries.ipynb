{
 "cells": [
  {
   "attachments": {},
   "cell_type": "markdown",
   "metadata": {},
   "source": [
    "# Example: Doctors Salaries\n",
    "\n",
    "Here is a graph of the income of doctors vs other professional plotted for 1939 to 1976 (in the United States). What we can see is that there's roughly two regions in this graph, split at around 1963.\n",
    "\n",
    "<img src=\"doctors_salaries.png\" />"
   ]
  },
  {
   "cell_type": "markdown",
   "metadata": {},
   "source": [
    "We can compare the gradient of the first half of the graph, where up to around 1963 the rate of increase in doctors salaries was fairly constant. After 1963, the rate of increase greatens and the gradient steepens. Therefore we can calculate this with some simple expressions in Python code."
   ]
  },
  {
   "cell_type": "code",
   "execution_count": 2,
   "metadata": {},
   "outputs": [
    {
     "data": {
      "text/plain": [
       "23109.338257768723"
      ]
     },
     "execution_count": 2,
     "metadata": {},
     "output_type": "execute_result"
    }
   ],
   "source": [
    "# In the first part of the graph doctors are making roughly \n",
    "# 25000 dollars in 1965, and in 1939 they were making about \n",
    "# 3000 dollars, and then calculate the difference in years\n",
    "\n",
    "25050 - 3262 / 1963 - 1939"
   ]
  },
  {
   "cell_type": "markdown",
   "metadata": {},
   "source": [
    "This calculates the annual gain as about 23000 dollar per year. Is this correct? Probably not. We have not accounted for precedence of arithmetic operators in Python. We need to add some parentheses."
   ]
  },
  {
   "cell_type": "code",
   "execution_count": 3,
   "metadata": {},
   "outputs": [
    {
     "data": {
      "text/plain": [
       "907.8333333333334"
      ]
     },
     "execution_count": 3,
     "metadata": {},
     "output_type": "execute_result"
    }
   ],
   "source": [
    "(25050 - 3262) / (1963 - 1939)"
   ]
  },
  {
   "cell_type": "markdown",
   "metadata": {},
   "source": [
    "Now we find the annual gain as being about 900 dollar per year."
   ]
  },
  {
   "cell_type": "code",
   "execution_count": 5,
   "metadata": {},
   "outputs": [
    {
     "data": {
      "text/plain": [
       "2903.769230769231"
      ]
     },
     "execution_count": 5,
     "metadata": {},
     "output_type": "execute_result"
    }
   ],
   "source": [
    "# In the second part of the graph doctors are making roughly \n",
    "# 63000 dollars in 1976, and in 1963 they were making about \n",
    "# 25000 dollars, and then calculate the difference in years\n",
    "\n",
    "(62799 - 25050) / (1976 - 1963)"
   ]
  },
  {
   "cell_type": "markdown",
   "metadata": {},
   "source": [
    "Now we find the annual gain as being about 3000 dollar per year."
   ]
  },
  {
   "cell_type": "code",
   "execution_count": null,
   "metadata": {
    "collapsed": true
   },
   "outputs": [],
   "source": []
  }
 ],
 "metadata": {
  "kernelspec": {
   "display_name": "Python 3",
   "language": "python",
   "name": "python3"
  },
  "language_info": {
   "codemirror_mode": {
    "name": "ipython",
    "version": 3
   },
   "file_extension": ".py",
   "mimetype": "text/x-python",
   "name": "python",
   "nbconvert_exporter": "python",
   "pygments_lexer": "ipython3",
   "version": "3.6.0"
  }
 },
 "nbformat": 4,
 "nbformat_minor": 2
}
