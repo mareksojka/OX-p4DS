{
 "cells": [
  {
   "cell_type": "markdown",
   "metadata": {},
   "source": [
    "# Lab 10: Sentiment Analysis with NLTK\n",
    "\n",
    "<sup>This lab is based on https://github.com/lesley2958/twilio-sent-analysis</sup>\n",
    "\n",
    "\n",
    "Welcome to lab 10! In this exercise, you will step through two simple examples using scikit-learn and *NLTK*, one of the most popular Natural Language Processing and Analysis libraries for the Python programming language. NLTK features various lexical analyses, n-gram and collocation identification, part-of-speech tagging and named-entity recognition amongst others.\n",
    "\n",
    "<img src=\"nltk_banner.jpeg\" />\n",
    "\n",
    "If you have launched this notebook in `binder` the `nltk` library should already have been installed on the underlying virtual machine that the copy of Jupyter Notebook is running in. If you have downloaded this notebook to use on your own computer (or in the CTR), you might need to install scikit-learn first before running this notebook. To install scikit-learn, open up the command-line (Command prompt on Windows, or Git Bash in the CTR) and type:\n",
    "\n",
    "```\n",
    "conda install nltk\n",
    "```\n",
    "\n",
    "and press Enter. Some text should whiz by indicating that it's installing various things. Once that is done, please restart Jupyter Notebook.\n",
    "\n",
    "For full documentation about how to use NLTK you can reference here: https://www.nltk.org\n",
    "\n",
    "In this lab session, we will try out some *sentiment analysis* on Twitter data. So you might be asking, what exactly is \"sentiment analysis\"? \n",
    "\n",
    "Well, it's exactly what it sounds like: it's building a computational system to determine the emotional tone behind words. This is important because it allows you to gain an understanding of the attitudes, opinions, and emotions of the people in your data. At a higher level, sentiment analysis involves Natural language processing and artificial intelligence by taking the actual text element, transforming it into a format that a machine can read, and using statistics to determine the actual sentiment.\n",
    "\n",
    "In this tutorial, we'll review some of the methods used to determine sentiment. To use NLTK in Python code, you import from `nltk`."
   ]
  },
  {
   "cell_type": "markdown",
   "metadata": {},
   "source": [
    "Sentiment Analysis isn't a new problem. There are thousands of labeled data out there, labels varying from simple positive and negative to more complex systems that determine *how* positive or negative is a given text. With that said, I've selected a pre-labeled set of data consisting of tweets from Twitter. Using this data, we'll begin by building a sentiment analysis model with scikit-learn. \n",
    "\n",
    "## Part A: Building a sentiment analysis model\n",
    "\n",
    "In this tutorial, we'll specifically use the Logistic Regression model from scikit-learn, which is a linear model commonly used for classifying binary data. The first part quite straightforward - I just want you to step through the code (there's nothing to solve in the first part) to get a feel for what is going on. In the second part, I want you to apply the sentiment analysis methods here to your own data."
   ]
  },
  {
   "cell_type": "markdown",
   "metadata": {},
   "source": [
    "### Preparing the Data\n",
    "\n",
    "To implement our linear classifier, we need the twitter data in a format that allows us to feed it into the classifier. Using the `sklearn.feature_extraction.text.CountVectorizer`, we will convert the text documents to a matrix of token counts. As you'll see soon enough, these vector counts will be what the classifier will ultimately use to train. So first, we import all the needed modules: "
   ]
  },
  {
   "cell_type": "code",
   "execution_count": 1,
   "metadata": {
    "collapsed": true
   },
   "outputs": [],
   "source": [
    "import re\n",
    "import nltk\n",
    "from sklearn.feature_extraction.text import CountVectorizer        "
   ]
  },
  {
   "cell_type": "markdown",
   "metadata": {},
   "source": [
    "But before we even get to vectorizing, we haven't even read in our data! Each file is a text file where each line is a sentence, so we can use the built-in `open()` function to split the file into tweets and append them to lists. Note that text and labels have to be separated for the test phase of this example!"
   ]
  },
  {
   "cell_type": "code",
   "execution_count": 2,
   "metadata": {
    "collapsed": true
   },
   "outputs": [],
   "source": [
    "text_pos = []\n",
    "labels_pos = []\n",
    "with open(\"pos_tweets.txt\") as f:\n",
    "    for i in f: \n",
    "        text_pos.append(i) \n",
    "        labels_pos.append('pos')\n",
    "\n",
    "text_neg = []\n",
    "labels_neg = []\n",
    "with open(\"neg_tweets.txt\") as f:\n",
    "    for i in f: \n",
    "        text_neg.append(i)\n",
    "        labels_neg.append('neg')"
   ]
  },
  {
   "cell_type": "markdown",
   "metadata": {},
   "source": [
    "Now that the data is properly stored in Python lists, it's time to split this data into training and test data. For the purpose of this tutorial, we'll keep 80% for training and 20% for testing -- we do this with Python list slicing! "
   ]
  },
  {
   "cell_type": "code",
   "execution_count": 3,
   "metadata": {
    "collapsed": true
   },
   "outputs": [],
   "source": [
    "training_text = text_pos[:int((.8)*len(text_pos))] + text_neg[:int((.8)*len(text_neg))]\n",
    "training_labels = labels_pos[:int((.8)*len(labels_pos))] + labels_neg[:int((.8)*len(labels_neg))]\n",
    "\n",
    "test_text = text_pos[int((.8)*len(text_pos)):] + text_neg[int((.8)*len(text_neg)):]\n",
    "test_labels = labels_pos[int((.8)*len(labels_pos)):] + labels_neg[int((.8)*len(labels_neg)):]"
   ]
  },
  {
   "cell_type": "markdown",
   "metadata": {},
   "source": [
    "Next, we initialize a vectoriser with the CountVectorizer class. Because we haven't pre-processed any of the data, we'll set lowercase to `False` and exclude stop word removal or stemming. "
   ]
  },
  {
   "cell_type": "code",
   "execution_count": 4,
   "metadata": {
    "collapsed": true
   },
   "outputs": [],
   "source": [
    "vectorizer = CountVectorizer(\n",
    "    analyzer = 'word',\n",
    "    lowercase = False,\n",
    "    max_features = 85\n",
    ")"
   ]
  },
  {
   "cell_type": "markdown",
   "metadata": {},
   "source": [
    "Next, we use the `fit_transform()` method to transform our corpus data into feature vectors. Since the input needed is a list of strings, we concatenate all of our training and test data. "
   ]
  },
  {
   "cell_type": "code",
   "execution_count": 5,
   "metadata": {
    "collapsed": true
   },
   "outputs": [],
   "source": [
    "features = vectorizer.fit_transform(\n",
    "    training_text + test_text)\n",
    "\n",
    "features_nd = features.toarray() # for easy use"
   ]
  },
  {
   "cell_type": "markdown",
   "metadata": {},
   "source": [
    "As a final step, we'll split the training data to get an evaluation set through scikit-learn's built-in cross validation method. All we need to do is provide the data and assign a training percentage (in this case, 80%)."
   ]
  },
  {
   "cell_type": "code",
   "execution_count": 6,
   "metadata": {},
   "outputs": [
    {
     "name": "stderr",
     "output_type": "stream",
     "text": [
      "D:\\Python\\lib\\site-packages\\sklearn\\cross_validation.py:44: DeprecationWarning: This module was deprecated in version 0.18 in favor of the model_selection module into which all the refactored classes and functions are moved. Also note that the interface of the new CV iterators are different from that of this module. This module will be removed in 0.20.\n",
      "  \"This module will be removed in 0.20.\", DeprecationWarning)\n"
     ]
    }
   ],
   "source": [
    "from sklearn.cross_validation import train_test_split\n",
    "\n",
    "X_train, X_test, y_train, y_test  = train_test_split(\n",
    "        features_nd[0:len(training_text)], \n",
    "        training_labels,\n",
    "        train_size=0.80, \n",
    "        random_state=1234)"
   ]
  },
  {
   "cell_type": "markdown",
   "metadata": {},
   "source": [
    "### Linear Classifier\n",
    "\n",
    "Finally, we can build the classifier for this corpus! As mentioned before, we'll be using the Logistic Regression from scikit-learn, so we'll start there: "
   ]
  },
  {
   "cell_type": "code",
   "execution_count": 7,
   "metadata": {
    "collapsed": true
   },
   "outputs": [],
   "source": [
    "from sklearn.linear_model import LogisticRegression\n",
    "log_model = LogisticRegression()"
   ]
  },
  {
   "cell_type": "markdown",
   "metadata": {},
   "source": [
    "Once the model is initialized, we have to fit it to our specific dataset, so we use scikit-learn's `fit()` method to do so:"
   ]
  },
  {
   "cell_type": "code",
   "execution_count": 8,
   "metadata": {
    "collapsed": true
   },
   "outputs": [],
   "source": [
    "log_model = log_model.fit(X=X_train, y=y_train)"
   ]
  },
  {
   "cell_type": "markdown",
   "metadata": {},
   "source": [
    "And finally, we use this classifier to label the evaluation set we created earlier:"
   ]
  },
  {
   "cell_type": "code",
   "execution_count": 9,
   "metadata": {
    "collapsed": true
   },
   "outputs": [],
   "source": [
    "test_pred = log_model.predict(X_test)"
   ]
  },
  {
   "cell_type": "markdown",
   "metadata": {},
   "source": [
    "### Accuracy"
   ]
  },
  {
   "cell_type": "markdown",
   "metadata": {},
   "source": [
    "Now just for our own \"fun\", let's take a look at some of the classifications our model makes! We'll choose a random set and then call our model on each! "
   ]
  },
  {
   "cell_type": "code",
   "execution_count": 10,
   "metadata": {},
   "outputs": [
    {
     "name": "stdout",
     "output_type": "stream",
     "text": [
      "neg \"Love that the Obamas are bringing back date night. Men, take note  http://bit.ly/ebPBZ\"\n",
      "\n",
      "neg \"loves chocolate milk  and that is GF YEAH..\"\n",
      "\n",
      "neg \"loving life... and loving you \"\n",
      "\n",
      "neg \"Lunch date with @Londonmitch to go to Leathenhall Market's cheese shop was really nice \"\n",
      "\n",
      "pos \"Made my evening: Starbucks barista complimented me on my hamsa scarf. When he heard I designed it and sell them on etsy he was \"\n",
      "\n",
      "neg \"Matt came to visit!  canton with him for dinner then prolly stopping somewhere for drinks and the cavs \"\n",
      "\n",
      "neg \"May be going to London next week \"\n",
      "\n",
      "pos \"me and rosa are going 2 start our own youtube channel! i'm super excited that we get 2 share our RaNdOmNeSs with the world!!!! \"\n",
      "\n",
      "pos \"Modern warfare 2 gameplay looks goood  #xboxe3\"\n",
      "\n",
      "neg \"Momz just made it back from Vegas, yayyyyy! \"\n",
      "\n"
     ]
    }
   ],
   "source": [
    "import random\n",
    "spl = random.sample(range(len(test_pred)), 10)\n",
    "for text, sentiment in zip(test_text, test_pred[spl]):\n",
    "    print(sentiment, text)"
   ]
  },
  {
   "cell_type": "markdown",
   "metadata": {},
   "source": [
    "Just glancing over the examples above, it's pretty obvious there are some misclassifications. But obviously we want to do more than just 'eyeball' the data, so let's actually calculate the accuracy score. "
   ]
  },
  {
   "cell_type": "markdown",
   "metadata": {},
   "source": [
    "What's the point in creating a machine learning algorithm if you have no idea how it performs? This is why we left some of the dataset for testing purposes. In scikit-learn, there is a function called sklearn.metrics.accuracy_score which calculates the accuracy percentage. Using this, we see that this model has an accuracy of about 76%. "
   ]
  },
  {
   "cell_type": "code",
   "execution_count": 11,
   "metadata": {},
   "outputs": [
    {
     "name": "stdout",
     "output_type": "stream",
     "text": [
      "0.7601246105919003\n"
     ]
    }
   ],
   "source": [
    "from sklearn.metrics import accuracy_score\n",
    "print(accuracy_score(y_test, test_pred))"
   ]
  },
  {
   "cell_type": "markdown",
   "metadata": {},
   "source": [
    "Yikes. 76% is better than randomly guessing, but still pretty low as far as classification accuracy goes. *Maybe* this is the best we can do with this dataset, but maybe we *can* do better? So let's give it a try with the Python module `nltk`. "
   ]
  },
  {
   "cell_type": "markdown",
   "metadata": {},
   "source": [
    "### Preparing the Data \n",
    "\n",
    "`nltk` is a much different from `scikit-learn`. `nltk` specializes and is *made for* natural language processing tasks, so needless to say, it was expected that `scikit-learn` wouldn't necessarily be the best choice. \n",
    " \n",
    "With that said, we'll now use `nltk` to build a sentiment analysis model on the same dataset. `nltk` requires a different data format, which is why I've implemented the function below:"
   ]
  },
  {
   "cell_type": "code",
   "execution_count": 10,
   "metadata": {},
   "outputs": [
    {
     "name": "stdout",
     "output_type": "stream",
     "text": [
      "{'My': True, 'cat': True, 'is': True, 'very': True, 'cute': True}\n"
     ]
    }
   ],
   "source": [
    "import nltk\n",
    "\n",
    "def format_sentence(sent):\n",
    "    return({word: True for word in nltk.word_tokenize(sent)})\n",
    "\n",
    "print(format_sentence(\"My cat is very cute\"))"
   ]
  },
  {
   "cell_type": "markdown",
   "metadata": {},
   "source": [
    "Here, `format_sentence` changes each tweet into a dictionary of words mapped to `True` booleans. Though not obvious from this function alone, this will eventually allow us to train our prediction model by splitting the text into its tokens, i.e. <i>tokenizing</i> the text. You'll learn about why this format is important in a later section.\n",
    "\n",
    "Using the data on the github repo, we'll actually format the positively and negatively labeled data."
   ]
  },
  {
   "cell_type": "code",
   "execution_count": 11,
   "metadata": {
    "collapsed": true
   },
   "outputs": [],
   "source": [
    "pos = []\n",
    "with open(\"pos_tweets.txt\") as f:\n",
    "    for i in f: \n",
    "        pos.append([format_sentence(i), 'pos'])"
   ]
  },
  {
   "cell_type": "code",
   "execution_count": 12,
   "metadata": {
    "collapsed": true
   },
   "outputs": [],
   "source": [
    "neg = []\n",
    "with open(\"neg_tweets.txt\") as f:\n",
    "    for i in f: \n",
    "        neg.append([format_sentence(i), 'neg'])"
   ]
  },
  {
   "cell_type": "markdown",
   "metadata": {},
   "source": [
    "Next, we'll split the labeled data into the training and test data, just as we did before."
   ]
  },
  {
   "cell_type": "code",
   "execution_count": 13,
   "metadata": {
    "collapsed": true
   },
   "outputs": [],
   "source": [
    "training = pos[:int((.8)*len(pos))] + neg[:int((.8)*len(neg))]\n",
    "test = pos[int((.8)*len(pos)):] + neg[int((.8)*len(neg)):]"
   ]
  },
  {
   "cell_type": "markdown",
   "metadata": {},
   "source": [
    "### Building a Classifier\n",
    "\n",
    "All NLTK classifiers work with feature structures, which can be simple dictionaries mapping a feature name to a feature value. In this example, we use the Naive Bayes Classifier, which makes predictions based on the word frequencies associated with each label of positive or negative."
   ]
  },
  {
   "cell_type": "code",
   "execution_count": 14,
   "metadata": {
    "collapsed": true
   },
   "outputs": [],
   "source": [
    "from nltk.classify import NaiveBayesClassifier\n",
    "\n",
    "classifier = NaiveBayesClassifier.train(training)"
   ]
  },
  {
   "cell_type": "markdown",
   "metadata": {},
   "source": [
    "Since the Naive Bayes Classifier is based entirely off of the frequencies associated with each label for a given word, we can call a function `show_most_informative_features()` to see which words are the highest indicators of a positive or negative label:"
   ]
  },
  {
   "cell_type": "code",
   "execution_count": 15,
   "metadata": {},
   "outputs": [
    {
     "name": "stdout",
     "output_type": "stream",
     "text": [
      "Most Informative Features\n",
      "                      no = True              neg : pos    =     19.4 : 1.0\n",
      "                    love = True              pos : neg    =     19.0 : 1.0\n",
      "                 awesome = True              pos : neg    =     17.2 : 1.0\n",
      "                headache = True              neg : pos    =     16.2 : 1.0\n",
      "                      Hi = True              pos : neg    =     12.7 : 1.0\n",
      "                   Thank = True              pos : neg    =      9.7 : 1.0\n",
      "                     New = True              pos : neg    =      9.7 : 1.0\n",
      "               beautiful = True              pos : neg    =      9.7 : 1.0\n",
      "                     fan = True              pos : neg    =      9.7 : 1.0\n",
      "                    haha = True              pos : neg    =      9.3 : 1.0\n"
     ]
    }
   ],
   "source": [
    "classifier.show_most_informative_features()"
   ]
  },
  {
   "cell_type": "markdown",
   "metadata": {},
   "source": [
    "Notice that there are three columns. Column 1 is why we used `format_sentence()` to map each word to a `True` value. What it does is count the number of occurences of each word for both labels to compute the ratio between the two, which is what column 3 represents. Column 2 lets us know which label occurs more frequently (the label on the left is the label most associated with the corresponding word. "
   ]
  },
  {
   "cell_type": "markdown",
   "metadata": {},
   "source": [
    "### Classification\n",
    "\n",
    "Just to see how our model works, let's try the classifier out with a positive example: "
   ]
  },
  {
   "cell_type": "code",
   "execution_count": 16,
   "metadata": {},
   "outputs": [
    {
     "name": "stdout",
     "output_type": "stream",
     "text": [
      "pos\n"
     ]
    }
   ],
   "source": [
    "example1 = \"The University of Oxford is great!\"\n",
    "print(classifier.classify(format_sentence(example1)))"
   ]
  },
  {
   "cell_type": "markdown",
   "metadata": {},
   "source": [
    "Now let's try out an example we'd expect a negative label: "
   ]
  },
  {
   "cell_type": "code",
   "execution_count": 17,
   "metadata": {},
   "outputs": [
    {
     "name": "stdout",
     "output_type": "stream",
     "text": [
      "neg\n"
     ]
    }
   ],
   "source": [
    "example2 = \"I'm sad that as an early career academic I don't get a better pension deal!\"\n",
    "print(classifier.classify(format_sentence(example2)))"
   ]
  },
  {
   "cell_type": "markdown",
   "metadata": {},
   "source": [
    "So what happens when we mix words of different sentiment labels? Let's take a look at this example:"
   ]
  },
  {
   "cell_type": "code",
   "execution_count": 18,
   "metadata": {},
   "outputs": [
    {
     "name": "stdout",
     "output_type": "stream",
     "text": [
      "neg\n"
     ]
    }
   ],
   "source": [
    "example3 = \"I have no worries!\"\n",
    "print(classifier.classify(format_sentence(example3)))"
   ]
  },
  {
   "cell_type": "markdown",
   "metadata": {},
   "source": [
    "And we've found a mislabel! Naive Bayes doesn't consider the relationship *between* words, which is why it wasn't able to catch the fact that \"no\" acted as a negator to the word `headache`. Instead, it read two negative indicators and classified it as such. \n",
    "\n",
    "Given that, we can probably expect a less than perfect accuracy rate."
   ]
  },
  {
   "cell_type": "markdown",
   "metadata": {},
   "source": [
    "### Accuracy\n",
    "\n",
    "Just like `scikit-learn`, nltk has a built in method that computes the accuracy rate of our model:"
   ]
  },
  {
   "cell_type": "code",
   "execution_count": 19,
   "metadata": {},
   "outputs": [
    {
     "name": "stdout",
     "output_type": "stream",
     "text": [
      "0.8308457711442786\n"
     ]
    }
   ],
   "source": [
    "from nltk.classify.util import accuracy\n",
    "print(accuracy(classifier, test))"
   ]
  },
  {
   "cell_type": "markdown",
   "metadata": {},
   "source": [
    "And we have improved performance! Awesome. Now, 83% is fairly solid, but it could be better! If you look at the actual data, you'll see that the data is kind of messy - there are typos, abbreviations, grammatical errors of all sorts.\n",
    "\n",
    "So how do we handle that? Can we handle that? We did some of that with our Project Gutenberg examples in the earlier weeks - stripping out punctuation, and making the input data case-insensitive. We can also filter out word that are not of interest, such as \"and\", \"the\", \"via\" and so on. These are called *stopwords*. `nltk` allows us to get a corpus of commonly found stopwords, which we can then use to filter out of our data."
   ]
  },
  {
   "cell_type": "code",
   "execution_count": 20,
   "metadata": {},
   "outputs": [
    {
     "name": "stdout",
     "output_type": "stream",
     "text": [
      "[nltk_data] Downloading package stopwords to\n",
      "[nltk_data]     C:\\Users\\marek\\AppData\\Roaming\\nltk_data...\n",
      "[nltk_data]   Package stopwords is already up-to-date!\n",
      "Punctuation:  ['!', '\"', '#', '$', '%', '&', \"'\", '(', ')', '*', '+', ',', '-', '.', '/', ':', ';', '<', '=', '>', '?', '@', '[', '\\\\', ']', '^', '_', '`', '{', '|', '}', '~']\n",
      "Stopwords:  ['i', 'me', 'my', 'myself', 'we', 'our', 'ours', 'ourselves', 'you', \"you're\", \"you've\", \"you'll\", \"you'd\", 'your', 'yours', 'yourself', 'yourselves', 'he', 'him', 'his', 'himself', 'she', \"she's\", 'her', 'hers', 'herself', 'it', \"it's\", 'its', 'itself', 'they', 'them', 'their', 'theirs', 'themselves', 'what', 'which', 'who', 'whom', 'this', 'that', \"that'll\", 'these', 'those', 'am', 'is', 'are', 'was', 'were', 'be', 'been', 'being', 'have', 'has', 'had', 'having', 'do', 'does', 'did', 'doing', 'a', 'an', 'the', 'and', 'but', 'if', 'or', 'because', 'as', 'until', 'while', 'of', 'at', 'by', 'for', 'with', 'about', 'against', 'between', 'into', 'through', 'during', 'before', 'after', 'above', 'below', 'to', 'from', 'up', 'down', 'in', 'out', 'on', 'off', 'over', 'under', 'again', 'further', 'then', 'once', 'here', 'there', 'when', 'where', 'why', 'how', 'all', 'any', 'both', 'each', 'few', 'more', 'most', 'other', 'some', 'such', 'no', 'nor', 'not', 'only', 'own', 'same', 'so', 'than', 'too', 'very', 's', 't', 'can', 'will', 'just', 'don', \"don't\", 'should', \"should've\", 'now', 'd', 'll', 'm', 'o', 're', 've', 'y', 'ain', 'aren', \"aren't\", 'couldn', \"couldn't\", 'didn', \"didn't\", 'doesn', \"doesn't\", 'hadn', \"hadn't\", 'hasn', \"hasn't\", 'haven', \"haven't\", 'isn', \"isn't\", 'ma', 'mightn', \"mightn't\", 'mustn', \"mustn't\", 'needn', \"needn't\", 'shan', \"shan't\", 'shouldn', \"shouldn't\", 'wasn', \"wasn't\", 'weren', \"weren't\", 'won', \"won't\", 'wouldn', \"wouldn't\"]\n"
     ]
    }
   ],
   "source": [
    "import numpy as np\n",
    "import string\n",
    "nltk.download('stopwords')\n",
    "from nltk.corpus import stopwords\n",
    "punctuation = list(string.punctuation)\n",
    "english_stopwords = stopwords.words('english')\n",
    "print(\"Punctuation: \", punctuation)\n",
    "print(\"Stopwords: \", english_stopwords)"
   ]
  },
  {
   "cell_type": "markdown",
   "metadata": {},
   "source": [
    "Try and apply these stoplists to what we did earlier to see if it makes any difference to the performance of our models. \n",
    "\n",
    "What other filters can we apply if we are dealing with the [anatomy of tweets](https://marketing.wtwhmedia.com/twitter-for-business-101-the-anatomy-of-a-tweet/) from Twitter?"
   ]
  },
  {
   "cell_type": "markdown",
   "metadata": {},
   "source": [
    "## Part B: Applying using NLTK with your own data\n",
    "\n",
    "Now you have an idea of how to use NLTK, try and apply some natural language processing to the tweets you gathered in Lab 8 (the `tweepy` exercise). Some ideas of what you could try to do:\n",
    "\n",
    "1. List the most recent tweets of Donald Trump's (or another Twitter user of interest) and predict if they are positive or negative.\n",
    "2. Build a DataFrame of tweets, and add a column indicating the postive or negative predictions.\n",
    "3. Plot the predicted sentiments in a time series against other factors to see if there might be some relationship, for example between positive tweets and the number of retweets or likes vs. negative tweets.\n",
    "\n",
    "Add your own cells below with your own working."
   ]
  },
  {
   "cell_type": "markdown",
   "metadata": {
    "collapsed": true
   },
   "source": [
    "### 1.List the most recent tweets of Donald Trump's (or another Twitter user of interest) and predict if they are positive or negative."
   ]
  },
  {
   "cell_type": "code",
   "execution_count": 26,
   "metadata": {},
   "outputs": [
    {
     "name": "stdout",
     "output_type": "stream",
     "text": [
      "neg RT @FLOTUS: Greetings from @WhiteHouse https://t.co/mjuHFqglYz\n",
      "pos Remember when they were saying, during the campaign, that Donald Trump is giving great speeches and drawing big cro… https://t.co/tmNjLRpLXI\n",
      "neg Crazy Joe Biden is trying to act like a tough guy. Actually, he is weak, both mentally and physically, and yet he t… https://t.co/4e33ZxnAw7\n",
      "neg Democrats refused to take care of DACA. Would have been so easy, but they just didn’t care. I had to fight for Military and start of Wall.\n",
      "neg Got $1.6 Billion to start Wall on Southern Border, rest will be forthcoming. Most importantly, got $700 Billion to… https://t.co/0uCYCqGbgf\n",
      "neg .....They can help solve problems with North Korea, Syria, Ukraine, ISIS, Iran and even the coming Arms Race. Bush… https://t.co/hrZ6vrJjVC\n",
      "pos I called President Putin of Russia to congratulate him on his election victory (in past, Obama called him also). Th… https://t.co/GZNDtLqkop\n",
      "neg “Special Council is told to find crimes, whether a crime exists or not. I was opposed to the selection of Mueller t… https://t.co/KYsOPqiVBG\n",
      "neg ...there was no probable cause for believing that there was any crime, collusion or otherwise, or obstruction of ju… https://t.co/zZFkhcS0jf\n",
      "pos Department of Justice should have urged the Supreme Court to at least hear the Drivers License case on illegal immi… https://t.co/tEaYQ9In3t\n",
      "pos AUSTIN BOMBING SUSPECT IS DEAD. Great job by law enforcement and all concerned!\n",
      "neg Our Nation was founded by farmers. Our independence was won by farmers. And our continent was tamed by farmers. Our… https://t.co/UsFIoGflhu\n",
      "neg The Democrats do not want to help DACA. Would be so easy to make a deal!\n",
      "pos RT @WhiteHouse: The opioid crisis has created stories of despair of shock, but also stories of recovery &amp; hope. President Trump is asking e…\n",
      "neg A total WITCH HUNT with massive conflicts of interest!\n",
      "pos .@seanhannity on @foxandfriends now! Great! 8:18 A.M.\n",
      "pos Why does the Mueller team have 13 hardened Democrats, some big Crooked Hillary supporters, and Zero Republicans? An… https://t.co/wKNAVhWJcz\n",
      "neg Spent very little time with Andrew McCabe, but he never took notes when he was with me. I don’t believe he made mem… https://t.co/O4fdG6P0sN\n",
      "neg Wow, watch Comey lie under oath to Senator G when asked “have you ever been an anonymous source...or known someone… https://t.co/2GxHCPXrJ3\n",
      "neg The Mueller probe should never have been started in that there was no collusion and there was no crime. It was base… https://t.co/oMCKEA7WmJ\n"
     ]
    }
   ],
   "source": [
    "import pandas as pd\n",
    "tweets_df=pd.read_csv('tweets.csv')\n",
    "for tweet in tweets_df.head(20)['Tweets'].tolist():\n",
    "    print(classifier.classify(format_sentence(tweet))+' '+tweet)"
   ]
  },
  {
   "cell_type": "markdown",
   "metadata": {
    "collapsed": true
   },
   "source": [
    "## Build a DataFrame of tweets, and add a column indicating the postive or negative predictions."
   ]
  },
  {
   "cell_type": "code",
   "execution_count": 29,
   "metadata": {},
   "outputs": [
    {
     "data": {
      "text/html": [
       "<div>\n",
       "<style scoped>\n",
       "    .dataframe tbody tr th:only-of-type {\n",
       "        vertical-align: middle;\n",
       "    }\n",
       "\n",
       "    .dataframe tbody tr th {\n",
       "        vertical-align: top;\n",
       "    }\n",
       "\n",
       "    .dataframe thead th {\n",
       "        text-align: right;\n",
       "    }\n",
       "</style>\n",
       "<table border=\"1\" class=\"dataframe\">\n",
       "  <thead>\n",
       "    <tr style=\"text-align: right;\">\n",
       "      <th></th>\n",
       "      <th>Unnamed: 0</th>\n",
       "      <th>Tweets</th>\n",
       "      <th>len</th>\n",
       "      <th>ID</th>\n",
       "      <th>Date</th>\n",
       "      <th>Source</th>\n",
       "      <th>Likes</th>\n",
       "      <th>RTs</th>\n",
       "      <th>Sentiment</th>\n",
       "    </tr>\n",
       "  </thead>\n",
       "  <tbody>\n",
       "    <tr>\n",
       "      <th>0</th>\n",
       "      <td>0</td>\n",
       "      <td>RT @FLOTUS: Greetings from @WhiteHouse https:/...</td>\n",
       "      <td>62</td>\n",
       "      <td>976869330020458500</td>\n",
       "      <td>2018-03-22 17:12:52</td>\n",
       "      <td>Twitter for iPhone</td>\n",
       "      <td>0</td>\n",
       "      <td>4905</td>\n",
       "      <td>neg</td>\n",
       "    </tr>\n",
       "    <tr>\n",
       "      <th>1</th>\n",
       "      <td>1</td>\n",
       "      <td>Remember when they were saying, during the cam...</td>\n",
       "      <td>140</td>\n",
       "      <td>976770619424563200</td>\n",
       "      <td>2018-03-22 10:40:37</td>\n",
       "      <td>Twitter for iPhone</td>\n",
       "      <td>59561</td>\n",
       "      <td>13645</td>\n",
       "      <td>pos</td>\n",
       "    </tr>\n",
       "    <tr>\n",
       "      <th>2</th>\n",
       "      <td>2</td>\n",
       "      <td>Crazy Joe Biden is trying to act like a tough ...</td>\n",
       "      <td>140</td>\n",
       "      <td>976765417908776963</td>\n",
       "      <td>2018-03-22 10:19:57</td>\n",
       "      <td>Twitter for iPhone</td>\n",
       "      <td>151839</td>\n",
       "      <td>48267</td>\n",
       "      <td>neg</td>\n",
       "    </tr>\n",
       "    <tr>\n",
       "      <th>3</th>\n",
       "      <td>3</td>\n",
       "      <td>Democrats refused to take care of DACA. Would ...</td>\n",
       "      <td>138</td>\n",
       "      <td>976655903729610752</td>\n",
       "      <td>2018-03-22 03:04:47</td>\n",
       "      <td>Twitter for iPhone</td>\n",
       "      <td>61113</td>\n",
       "      <td>14334</td>\n",
       "      <td>neg</td>\n",
       "    </tr>\n",
       "    <tr>\n",
       "      <th>4</th>\n",
       "      <td>4</td>\n",
       "      <td>Got $1.6 Billion to start Wall on Southern Bor...</td>\n",
       "      <td>139</td>\n",
       "      <td>976654851684945920</td>\n",
       "      <td>2018-03-22 03:00:36</td>\n",
       "      <td>Twitter for iPhone</td>\n",
       "      <td>77161</td>\n",
       "      <td>18452</td>\n",
       "      <td>neg</td>\n",
       "    </tr>\n",
       "    <tr>\n",
       "      <th>5</th>\n",
       "      <td>5</td>\n",
       "      <td>.....They can help solve problems with North K...</td>\n",
       "      <td>139</td>\n",
       "      <td>976535330835836929</td>\n",
       "      <td>2018-03-21 19:05:40</td>\n",
       "      <td>Twitter for iPhone</td>\n",
       "      <td>74274</td>\n",
       "      <td>18235</td>\n",
       "      <td>neg</td>\n",
       "    </tr>\n",
       "    <tr>\n",
       "      <th>6</th>\n",
       "      <td>6</td>\n",
       "      <td>I called President Putin of Russia to congratu...</td>\n",
       "      <td>140</td>\n",
       "      <td>976532956557737984</td>\n",
       "      <td>2018-03-21 18:56:14</td>\n",
       "      <td>Twitter for iPhone</td>\n",
       "      <td>115735</td>\n",
       "      <td>27347</td>\n",
       "      <td>pos</td>\n",
       "    </tr>\n",
       "    <tr>\n",
       "      <th>7</th>\n",
       "      <td>7</td>\n",
       "      <td>“Special Council is told to find crimes, wheth...</td>\n",
       "      <td>140</td>\n",
       "      <td>976420417090015232</td>\n",
       "      <td>2018-03-21 11:29:03</td>\n",
       "      <td>Twitter for iPhone</td>\n",
       "      <td>70904</td>\n",
       "      <td>17487</td>\n",
       "      <td>neg</td>\n",
       "    </tr>\n",
       "    <tr>\n",
       "      <th>8</th>\n",
       "      <td>8</td>\n",
       "      <td>...there was no probable cause for believing t...</td>\n",
       "      <td>140</td>\n",
       "      <td>976415945714556928</td>\n",
       "      <td>2018-03-21 11:11:17</td>\n",
       "      <td>Twitter for iPhone</td>\n",
       "      <td>75828</td>\n",
       "      <td>18777</td>\n",
       "      <td>neg</td>\n",
       "    </tr>\n",
       "    <tr>\n",
       "      <th>9</th>\n",
       "      <td>9</td>\n",
       "      <td>Department of Justice should have urged the Su...</td>\n",
       "      <td>140</td>\n",
       "      <td>976411208717950976</td>\n",
       "      <td>2018-03-21 10:52:27</td>\n",
       "      <td>Twitter for iPhone</td>\n",
       "      <td>54115</td>\n",
       "      <td>13893</td>\n",
       "      <td>pos</td>\n",
       "    </tr>\n",
       "  </tbody>\n",
       "</table>\n",
       "</div>"
      ],
      "text/plain": [
       "   Unnamed: 0                                             Tweets  len  \\\n",
       "0           0  RT @FLOTUS: Greetings from @WhiteHouse https:/...   62   \n",
       "1           1  Remember when they were saying, during the cam...  140   \n",
       "2           2  Crazy Joe Biden is trying to act like a tough ...  140   \n",
       "3           3  Democrats refused to take care of DACA. Would ...  138   \n",
       "4           4  Got $1.6 Billion to start Wall on Southern Bor...  139   \n",
       "5           5  .....They can help solve problems with North K...  139   \n",
       "6           6  I called President Putin of Russia to congratu...  140   \n",
       "7           7  “Special Council is told to find crimes, wheth...  140   \n",
       "8           8  ...there was no probable cause for believing t...  140   \n",
       "9           9  Department of Justice should have urged the Su...  140   \n",
       "\n",
       "                   ID                 Date              Source   Likes    RTs  \\\n",
       "0  976869330020458500  2018-03-22 17:12:52  Twitter for iPhone       0   4905   \n",
       "1  976770619424563200  2018-03-22 10:40:37  Twitter for iPhone   59561  13645   \n",
       "2  976765417908776963  2018-03-22 10:19:57  Twitter for iPhone  151839  48267   \n",
       "3  976655903729610752  2018-03-22 03:04:47  Twitter for iPhone   61113  14334   \n",
       "4  976654851684945920  2018-03-22 03:00:36  Twitter for iPhone   77161  18452   \n",
       "5  976535330835836929  2018-03-21 19:05:40  Twitter for iPhone   74274  18235   \n",
       "6  976532956557737984  2018-03-21 18:56:14  Twitter for iPhone  115735  27347   \n",
       "7  976420417090015232  2018-03-21 11:29:03  Twitter for iPhone   70904  17487   \n",
       "8  976415945714556928  2018-03-21 11:11:17  Twitter for iPhone   75828  18777   \n",
       "9  976411208717950976  2018-03-21 10:52:27  Twitter for iPhone   54115  13893   \n",
       "\n",
       "  Sentiment  \n",
       "0       neg  \n",
       "1       pos  \n",
       "2       neg  \n",
       "3       neg  \n",
       "4       neg  \n",
       "5       neg  \n",
       "6       pos  \n",
       "7       neg  \n",
       "8       neg  \n",
       "9       pos  "
      ]
     },
     "execution_count": 29,
     "metadata": {},
     "output_type": "execute_result"
    }
   ],
   "source": [
    "for row in tweets_df.index:\n",
    "    tweet=tweets_df.loc[row,'Tweets']\n",
    "    tweets_df.loc[row,'Sentiment']=classifier.classify(format_sentence(tweet))\n",
    "tweets_df.head(10)                                                    "
   ]
  },
  {
   "cell_type": "markdown",
   "metadata": {},
   "source": [
    "## Plot the predicted sentiments in a time series against other factors to see if there might be some relationship, for example between positive tweets and the number of retweets or likes vs. negative tweets."
   ]
  },
  {
   "cell_type": "code",
   "execution_count": 53,
   "metadata": {},
   "outputs": [
    {
     "data": {
      "text/plain": [
       "<matplotlib.axes._subplots.AxesSubplot at 0x1bfc9d117b8>"
      ]
     },
     "execution_count": 53,
     "metadata": {},
     "output_type": "execute_result"
    },
    {
     "data": {
      "image/png": "[encoded data removed]",
      "text/plain": [
       "<matplotlib.figure.Figure at 0x1bfc9c88f60>"
      ]
     },
     "metadata": {},
     "output_type": "display_data"
    }
   ],
   "source": [
    "tweets_df['Date']=pd.to_datetime(tweets_df['Date'])\n",
    "plot_tweet=pd.Series(index=tweets_df['Date'],data=-1)\n",
    "pos_tweets=tweets_df[tweets_df['Sentiment']=='pos'].index\n",
    "plot_tweet[pos_tweets]=1\n",
    "%matplotlib inline\n",
    "plot_tweet.resample('D').sum().plot(title='Daily tweets sentiment index')"
   ]
  },
  {
   "cell_type": "markdown",
   "metadata": {},
   "source": [
    "When you're finished with lab 10 (or had completed what you can), choose **Save and Checkpoint** from the **File** menu, then choose **Download as Notebook** and save it to your computer or USB stick. You can then send a copy to the lecturer via Slack or email to check over."
   ]
  },
  {
   "cell_type": "code",
   "execution_count": null,
   "metadata": {},
   "outputs": [],
   "source": []
  },
  {
   "cell_type": "code",
   "execution_count": null,
   "metadata": {
    "collapsed": true
   },
   "outputs": [],
   "source": []
  }
 ],
 "metadata": {
  "kernelspec": {
   "display_name": "Python 3",
   "language": "python",
   "name": "python3"
  },
  "language_info": {
   "codemirror_mode": {
    "name": "ipython",
    "version": 3
   },
   "file_extension": ".py",
   "mimetype": "text/x-python",
   "name": "python",
   "nbconvert_exporter": "python",
   "pygments_lexer": "ipython3",
   "version": "3.6.1"
  }
 },
 "nbformat": 4,
 "nbformat_minor": 2
}
