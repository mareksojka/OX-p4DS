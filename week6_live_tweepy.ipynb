{
 "cells": [
  {
   "cell_type": "markdown",
   "metadata": {},
   "source": [
    "Get your own API key and Access Token from Twitter: https://www.gabfirethemes.com/create-twitter-api-key/"
   ]
  },
  {
   "cell_type": "code",
   "execution_count": 2,
   "metadata": {
    "collapsed": true
   },
   "outputs": [],
   "source": [
    "api_key = ''\n",
    "api_secret = ''\n",
    "access_token = ''\n",
    "access_token_secret = ''"
   ]
  },
  {
   "cell_type": "code",
   "execution_count": 3,
   "metadata": {
    "collapsed": true
   },
   "outputs": [],
   "source": [
    "import tweepy"
   ]
  },
  {
   "cell_type": "code",
   "execution_count": 4,
   "metadata": {
    "collapsed": true
   },
   "outputs": [],
   "source": [
    "auth = tweepy.OAuthHandler(api_key, api_secret)\n",
    "auth.set_access_token(access_token, access_token_secret)\n",
    "api = tweepy.API(auth)"
   ]
  },
  {
   "cell_type": "code",
   "execution_count": 5,
   "metadata": {
    "collapsed": false
   },
   "outputs": [],
   "source": [
    "users = api.search_users(q='USA')"
   ]
  },
  {
   "cell_type": "code",
   "execution_count": 6,
   "metadata": {
    "collapsed": false
   },
   "outputs": [
    {
     "data": {
      "text/plain": [
       "20"
      ]
     },
     "execution_count": 6,
     "metadata": {},
     "output_type": "execute_result"
    }
   ],
   "source": [
    "len(users)"
   ]
  },
  {
   "cell_type": "code",
   "execution_count": 7,
   "metadata": {
    "collapsed": false
   },
   "outputs": [
    {
     "name": "stdout",
     "output_type": "stream",
     "text": [
      "We found 20 users\n",
      "Donald J. Trump\n",
      "CNN\n",
      "Department of State\n",
      "President Trump\n",
      "USA TODAY\n",
      "Melania Trump\n",
      "Vice President Mike Pence\n",
      "Library of Congress\n",
      "US Open Tennis\n",
      "Girl Scouts\n",
      "USA.gov\n",
      "THE X FACTOR (USA)\n",
      "U.S. Air Force\n",
      "Sal Vulcano\n",
      "AmnestyInternational\n",
      "U.S. Soccer WNT\n",
      "Gordon Ramsay\n",
      "Homeland Security\n",
      "U.S. Soccer\n",
      "US Department of the Interior\n"
     ]
    }
   ],
   "source": [
    "print('We found {} users'.format(len(users)))\n",
    "for user in users:\n",
    "    print(user.name)"
   ]
  },
  {
   "cell_type": "code",
   "execution_count": 8,
   "metadata": {
    "collapsed": false
   },
   "outputs": [
    {
     "data": {
      "text/plain": [
       "['__class__',\n",
       " '__delattr__',\n",
       " '__dict__',\n",
       " '__dir__',\n",
       " '__doc__',\n",
       " '__eq__',\n",
       " '__format__',\n",
       " '__ge__',\n",
       " '__getattribute__',\n",
       " '__getstate__',\n",
       " '__gt__',\n",
       " '__hash__',\n",
       " '__init__',\n",
       " '__le__',\n",
       " '__lt__',\n",
       " '__module__',\n",
       " '__ne__',\n",
       " '__new__',\n",
       " '__reduce__',\n",
       " '__reduce_ex__',\n",
       " '__repr__',\n",
       " '__setattr__',\n",
       " '__sizeof__',\n",
       " '__str__',\n",
       " '__subclasshook__',\n",
       " '__weakref__',\n",
       " '_api',\n",
       " '_json',\n",
       " 'contributors_enabled',\n",
       " 'created_at',\n",
       " 'default_profile',\n",
       " 'default_profile_image',\n",
       " 'description',\n",
       " 'entities',\n",
       " 'favourites_count',\n",
       " 'follow',\n",
       " 'follow_request_sent',\n",
       " 'followers',\n",
       " 'followers_count',\n",
       " 'followers_ids',\n",
       " 'following',\n",
       " 'friends',\n",
       " 'friends_count',\n",
       " 'geo_enabled',\n",
       " 'has_extended_profile',\n",
       " 'id',\n",
       " 'id_str',\n",
       " 'is_translation_enabled',\n",
       " 'is_translator',\n",
       " 'lang',\n",
       " 'listed_count',\n",
       " 'lists',\n",
       " 'lists_memberships',\n",
       " 'lists_subscriptions',\n",
       " 'location',\n",
       " 'name',\n",
       " 'notifications',\n",
       " 'parse',\n",
       " 'parse_list',\n",
       " 'profile_background_color',\n",
       " 'profile_background_image_url',\n",
       " 'profile_background_image_url_https',\n",
       " 'profile_background_tile',\n",
       " 'profile_banner_url',\n",
       " 'profile_image_url',\n",
       " 'profile_image_url_https',\n",
       " 'profile_link_color',\n",
       " 'profile_sidebar_border_color',\n",
       " 'profile_sidebar_fill_color',\n",
       " 'profile_text_color',\n",
       " 'profile_use_background_image',\n",
       " 'protected',\n",
       " 'screen_name',\n",
       " 'status',\n",
       " 'statuses_count',\n",
       " 'time_zone',\n",
       " 'timeline',\n",
       " 'translator_type',\n",
       " 'unfollow',\n",
       " 'url',\n",
       " 'utc_offset',\n",
       " 'verified']"
      ]
     },
     "execution_count": 8,
     "metadata": {},
     "output_type": "execute_result"
    }
   ],
   "source": [
    "dir(users[0])"
   ]
  },
  {
   "cell_type": "code",
   "execution_count": 9,
   "metadata": {
    "collapsed": true
   },
   "outputs": [],
   "source": [
    "trump = users[0]"
   ]
  },
  {
   "cell_type": "code",
   "execution_count": 10,
   "metadata": {
    "collapsed": false
   },
   "outputs": [
    {
     "data": {
      "text/plain": [
       "'Donald J. Trump'"
      ]
     },
     "execution_count": 10,
     "metadata": {},
     "output_type": "execute_result"
    }
   ],
   "source": [
    "trump.name"
   ]
  },
  {
   "cell_type": "code",
   "execution_count": 11,
   "metadata": {
    "collapsed": false
   },
   "outputs": [
    {
     "data": {
      "text/plain": [
       "'realDonaldTrump'"
      ]
     },
     "execution_count": 11,
     "metadata": {},
     "output_type": "execute_result"
    }
   ],
   "source": [
    "trump.screen_name"
   ]
  },
  {
   "cell_type": "code",
   "execution_count": 12,
   "metadata": {
    "collapsed": false
   },
   "outputs": [
    {
     "data": {
      "text/plain": [
       "48.761708"
      ]
     },
     "execution_count": 12,
     "metadata": {},
     "output_type": "execute_result"
    }
   ],
   "source": [
    "trump.followers_count / (1 * 10 ** 6)"
   ]
  },
  {
   "cell_type": "code",
   "execution_count": 13,
   "metadata": {
    "collapsed": false
   },
   "outputs": [],
   "source": [
    "trump_tweets = tweepy.Cursor(api.user_timeline, screen_name=trump.screen_name).items(50)"
   ]
  },
  {
   "cell_type": "code",
   "execution_count": 14,
   "metadata": {
    "collapsed": false
   },
   "outputs": [
    {
     "name": "stdout",
     "output_type": "stream",
     "text": [
      "Great meeting with @Cabinet at the @WhiteHouse today! #MAGA https://t.co/InWj0QTosz\n",
      "Happy #InternationalWomensDay\n",
      "\n",
      "“First Lady Melania Trump to Present the 2018 International Women of Courage Award” https://t.co/EwYtFXGvn2\n",
      "Looking forward to 3:30 P.M. meeting today at the White House. We have to protect &amp; build our Steel and Aluminum In… https://t.co/TOvuYY0vmd\n",
      "The U.S. is acting swiftly on Intellectual Property theft. We cannot allow this to happen as it has for many years!\n",
      "China has been asked to develop a plan for the year of a One Billion Dollar reduction in their massive Trade Defici… https://t.co/D2TzeyTmqX\n",
      "From Bush 1 to present, our Country has lost more than 55,000 factories, 6,000,000 manufacturing jobs and accumulat… https://t.co/PqL7IA75c4\n",
      "@MarkBurnettTV @RealRomaDowney From Bush 1 to present, our Country has lost more than 55,000 factories, 6,000,000 m… https://t.co/ZWsYQugFPk\n",
      "Great couple, great book! https://t.co/cLDI79rin8\n",
      "Will be making a decision soon on the appointment of new Chief Economic Advisor. Many people wanting the job - will choose wisely!\n",
      "Possible progress being made in talks with North Korea. For the first time in many years, a serious effort is being… https://t.co/17I9VFMLrI\n",
      "Federal Judge in Maryland has just ruled that “President Trump has the right to end DACA.” President Obama had 8 ye… https://t.co/Coh1fflMxK\n",
      "Lowest rated Oscars in HISTORY. Problem is, we don’t have Stars anymore - except your President (just kidding, of course)!\n",
      "RT @EricTrump: Congratulations @FoxNews: Fox has 15 of the top 20 shows with @SeanHannity and @TuckerCarlson leading the pack at 1st and 2n…\n",
      "We will see what happens! https://t.co/Y1qxoAUfd9\n",
      "We are getting it done - jobs and security! https://t.co/Ui8bubj7Yr\n",
      "Total inaction on DACA by Dems. Where are you? A deal can be made!\n",
      "The new Fake News narrative is that there is CHAOS in the White House. Wrong! People will always come &amp; go, and I w… https://t.co/gZx40h1psF\n",
      "It’s March 5th and the Democrats are nowhere to be found on DACA. Gave them 6 months, they just don’t care. Where a… https://t.co/VuCAvyGCb7\n",
      "Why did the Obama Administration start an investigation into the Trump Campaign (with zero proof of wrongdoing) lon… https://t.co/YyfQtgZMpn\n",
      "To protect our Country we must protect American Steel! #AMERICA FIRST\n",
      "...treat our farmers much better. Highly restrictive. Mexico must do much more on stopping drugs from pouring into… https://t.co/7Bmn1xy747\n",
      "We have large trade deficits with Mexico and Canada. NAFTA, which is under renegotiation right now, has been a bad… https://t.co/SdLj0DaHLu\n",
      "We are on the losing side of almost all trade deals. Our friends and enemies have taken advantage of the U.S. for m… https://t.co/kTZHwXqeMy\n",
      "The Gridiron Dinner last night was great fun. I am accomplishing a lot in Washington and have never had a better ti… https://t.co/BZHVReTuYi\n",
      "If the E.U. wants to further increase their already massive tariffs and barriers on U.S. companies doing business t… https://t.co/taytTlApWc\n",
      "The United States has an $800 Billion Dollar Yearly Trade Deficit because of our “very stupid” trade deals and poli… https://t.co/nFF3vEmRmY\n",
      "Mainstream Media in U.S. is being mocked all over the world. They’ve gone CRAZY! https://t.co/4UGYuJpUA7\n",
      "Happy National Anthem Day! https://t.co/cf1eugMbKU\n",
      "REST IN PEACE BILLY GRAHAM! https://t.co/2qMoUccVC2\n",
      "When a country Taxes our products coming in at, say, 50%, and we Tax the same product coming into our country at ZE… https://t.co/UFVLaWepzN\n",
      "We must protect our country and our workers. Our steel industry is in bad shape. IF YOU DON’T HAVE STEEL, YOU DON’T HAVE A COUNTRY!\n",
      "Eric, we are all with you and your family! Look forward to seeing you back on T.V. https://t.co/d6y3Q00BSy\n",
      "Alec Baldwin, whose dying mediocre career was saved by his terrible impersonation of me on SNL, now says playing me… https://t.co/Ntuy4BRXmJ\n",
      "When a country (USA) is losing many billions of dollars on trade with virtually every country it does business with… https://t.co/lPSkkolNRP\n",
      "Good (Great) meeting in the Oval Office tonight with the NRA!\n",
      "RT @IvankaTrump: My OpEd on the importance of #YouthSports participation and how this Administration is seeking to lift barriers so all our…\n",
      "RT @Scavino45: “Trump Comes Through — Saves $1.4 Billion On New Air Force One” https://t.co/cN3TAQywpR\n",
      "Manufacturing growing at the fastest pace in almost two decades!\n",
      "Jobless claims at a 49 year low!\n",
      "Together, we will face this challenge as a national family with conviction, with unity, and with a commitment to lo… https://t.co/7sw39LHddj\n",
      "“Consumer Confidence in February Highest Since November 2000” https://t.co/UgAJRawExx\n",
      "“Manufacturing in U.S. Expands at Fastest Pace Since May 2004” https://t.co/XZkwS8tTml\n",
      "Unemployment filings are at their lowest level in over 48 years. Great news for workers and JOBS, JOBS, JOBS! #MAGA https://t.co/SzHTarzfrW\n",
      "Our Steel and Aluminum industries (and many others) have been decimated by decades of unfair trade and bad policy w… https://t.co/OEgFJVYtCs\n",
      "Many ideas, some good &amp; some not so good, emerged from our bipartisan meeting on school safety yesterday at the Whi… https://t.co/aJ2m3fH3y3\n",
      "It was an honor to welcome bipartisan members of Congress for a discussion on SAFE schools and SAFE communities. As… https://t.co/EPB1EN3HRc\n",
      "Today we honor Billy Graham as only three private citizens before him have been honored. \n",
      "\n",
      "We say a prayer for our… https://t.co/CbrnqFwUuZ\n",
      "Starting at a small Bible School in Florida, Billy Graham soon led a nationwide revival. From a large tent in Los A… https://t.co/rhhuOssGmf\n",
      "Today, in the center of this great Chamber lies Billy Graham – an Ambassador for Christ who reminded the world of t… https://t.co/1pVcsV0cam\n",
      "Why is A.G. Jeff Sessions asking the Inspector General to investigate potentially massive FISA abuse. Will take for… https://t.co/3tKywTn98g\n"
     ]
    }
   ],
   "source": [
    "for tweet in trump_tweets:\n",
    "    print(tweet.text)"
   ]
  },
  {
   "cell_type": "code",
   "execution_count": 15,
   "metadata": {
    "collapsed": true
   },
   "outputs": [],
   "source": [
    "trump_tweets = tweepy.Cursor(api.user_timeline, screen_name=trump.screen_name).items(50)"
   ]
  },
  {
   "cell_type": "code",
   "execution_count": 16,
   "metadata": {
    "collapsed": false
   },
   "outputs": [],
   "source": [
    "tweet1 = next(trump_tweets)"
   ]
  },
  {
   "cell_type": "code",
   "execution_count": 17,
   "metadata": {
    "collapsed": false
   },
   "outputs": [
    {
     "data": {
      "text/plain": [
       "{'hashtags': [{'indices': [54, 59], 'text': 'MAGA'}],\n",
       " 'media': [{'display_url': 'pic.twitter.com/InWj0QTosz',\n",
       "   'expanded_url': 'https://twitter.com/realDonaldTrump/status/971822550757138433/photo/1',\n",
       "   'id': 971822536609665024,\n",
       "   'id_str': '971822536609665024',\n",
       "   'indices': [60, 83],\n",
       "   'media_url': 'http://pbs.twimg.com/media/DXybcrdWkAANqrY.jpg',\n",
       "   'media_url_https': 'https://pbs.twimg.com/media/DXybcrdWkAANqrY.jpg',\n",
       "   'sizes': {'large': {'h': 1365, 'resize': 'fit', 'w': 2048},\n",
       "    'medium': {'h': 800, 'resize': 'fit', 'w': 1200},\n",
       "    'small': {'h': 453, 'resize': 'fit', 'w': 680},\n",
       "    'thumb': {'h': 150, 'resize': 'crop', 'w': 150}},\n",
       "   'type': 'photo',\n",
       "   'url': 'https://t.co/InWj0QTosz'}],\n",
       " 'symbols': [],\n",
       " 'urls': [],\n",
       " 'user_mentions': [{'id': 818928162449068032,\n",
       "   'id_str': '818928162449068032',\n",
       "   'indices': [19, 27],\n",
       "   'name': 'The Cabinet',\n",
       "   'screen_name': 'Cabinet'},\n",
       "  {'id': 822215673812119553,\n",
       "   'id_str': '822215673812119553',\n",
       "   'indices': [35, 46],\n",
       "   'name': 'The White House',\n",
       "   'screen_name': 'WhiteHouse'}]}"
      ]
     },
     "execution_count": 17,
     "metadata": {},
     "output_type": "execute_result"
    }
   ],
   "source": [
    "tweet1.entities"
   ]
  },
  {
   "cell_type": "code",
   "execution_count": null,
   "metadata": {
    "collapsed": true
   },
   "outputs": [],
   "source": []
  }
 ],
 "metadata": {
  "kernelspec": {
   "display_name": "Python 3",
   "language": "python",
   "name": "python3"
  },
  "language_info": {
   "codemirror_mode": {
    "name": "ipython",
    "version": 3
   },
   "file_extension": ".py",
   "mimetype": "text/x-python",
   "name": "python",
   "nbconvert_exporter": "python",
   "pygments_lexer": "ipython3",
   "version": "3.4.3"
  }
 },
 "nbformat": 4,
 "nbformat_minor": 0
}
