{
 "cells": [
  {
   "cell_type": "markdown",
   "metadata": {},
   "source": [
    "Based on https://github.com/scrapy/quotesbot"
   ]
  },
  {
   "cell_type": "code",
   "execution_count": 1,
   "metadata": {
    "collapsed": true
   },
   "outputs": [],
   "source": [
    "import scrapy\n",
    "from scrapy.crawler import CrawlerProcess\n",
    "import logging"
   ]
  },
  {
   "cell_type": "code",
   "execution_count": 2,
   "metadata": {
    "collapsed": true
   },
   "outputs": [],
   "source": [
    "import logging\n",
    "\n",
    "class QuotesSpider(scrapy.Spider):\n",
    "    name = \"quotes\"\n",
    "    start_urls = [\n",
    "        'http://quotes.toscrape.com/page/1/',\n",
    "        'http://quotes.toscrape.com/page/2/',\n",
    "    ]\n",
    "    custom_settings = {\n",
    "        'LOG_LEVEL': logging.WARNING,\n",
    "        'FEED_FORMAT':'json',\n",
    "        'FEED_URI': 'quoteresult.json'\n",
    "    }\n",
    "    \n",
    "    def parse(self, response):\n",
    "        for quote in response.css('div.quote'):\n",
    "            yield {\n",
    "                'text': quote.css('span.text::text').extract_first(),\n",
    "                'author': quote.css('span small::text').extract_first(),\n",
    "                'tags': quote.css('div.tags a.tag::text').extract(),\n",
    "            }"
   ]
  },
  {
   "cell_type": "code",
   "execution_count": 3,
   "metadata": {
    "collapsed": false
   },
   "outputs": [
    {
     "name": "stderr",
     "output_type": "stream",
     "text": [
      "2018-03-08 19:50:15 [scrapy.utils.log] INFO: Scrapy 1.5.0 started (bot: scrapybot)\n",
      "2018-03-08 19:50:15 [scrapy.utils.log] INFO: Versions: lxml 4.1.1.0, libxml2 2.9.7, cssselect 1.0.3, parsel 1.4.0, w3lib 1.19.0, Twisted 17.9.0, Python 3.4.3 (v3.4.3:9b73f1c3e601, Feb 23 2015, 02:52:03) - [GCC 4.2.1 (Apple Inc. build 5666) (dot 3)], pyOpenSSL 17.5.0 (OpenSSL 1.1.0g  2 Nov 2017), cryptography 2.1.4, Platform Darwin-17.4.0-x86_64-i386-64bit\n",
      "2018-03-08 19:50:15 [scrapy.crawler] INFO: Overridden settings: {'USER_AGENT': 'Mozilla/4.0 (compatible; MSIE 7.0; Windows NT 5.1)', 'FEED_URI': 'quoteresult.json', 'LOG_LEVEL': 30, 'FEED_FORMAT': 'json'}\n"
     ]
    }
   ],
   "source": [
    "process = CrawlerProcess({\n",
    "    'USER_AGENT': 'Mozilla/4.0 (compatible; MSIE 7.0; Windows NT 5.1)'\n",
    "})\n",
    "\n",
    "process.crawl(QuotesSpider)\n",
    "process.start()"
   ]
  },
  {
   "cell_type": "code",
   "execution_count": 4,
   "metadata": {
    "collapsed": false
   },
   "outputs": [
    {
     "data": {
      "text/plain": [
       "['[\\n',\n",
       " '{\"author\": \"Albert Einstein\", \"text\": \"\\\\u201cThe world as we have created it is a process of our thinking. It cannot be changed without changing our thinking.\\\\u201d\", \"tags\": [\"change\", \"deep-thoughts\", \"thinking\", \"world\"]},\\n',\n",
       " '{\"author\": \"J.K. Rowling\", \"text\": \"\\\\u201cIt is our choices, Harry, that show what we truly are, far more than our abilities.\\\\u201d\", \"tags\": [\"abilities\", \"choices\"]},\\n',\n",
       " '{\"author\": \"Albert Einstein\", \"text\": \"\\\\u201cThere are only two ways to live your life. One is as though nothing is a miracle. The other is as though everything is a miracle.\\\\u201d\", \"tags\": [\"inspirational\", \"life\", \"live\", \"miracle\", \"miracles\"]},\\n',\n",
       " '{\"author\": \"Jane Austen\", \"text\": \"\\\\u201cThe person, be it gentleman or lady, who has not pleasure in a good novel, must be intolerably stupid.\\\\u201d\", \"tags\": [\"aliteracy\", \"books\", \"classic\", \"humor\"]},\\n',\n",
       " '{\"author\": \"Marilyn Monroe\", \"text\": \"\\\\u201cImperfection is beauty, madness is genius and it\\'s better to be absolutely ridiculous than absolutely boring.\\\\u201d\", \"tags\": [\"be-yourself\", \"inspirational\"]},\\n',\n",
       " '{\"author\": \"Albert Einstein\", \"text\": \"\\\\u201cTry not to become a man of success. Rather become a man of value.\\\\u201d\", \"tags\": [\"adulthood\", \"success\", \"value\"]},\\n',\n",
       " '{\"author\": \"Andr\\\\u00e9 Gide\", \"text\": \"\\\\u201cIt is better to be hated for what you are than to be loved for what you are not.\\\\u201d\", \"tags\": [\"life\", \"love\"]},\\n',\n",
       " '{\"author\": \"Thomas A. Edison\", \"text\": \"\\\\u201cI have not failed. I\\'ve just found 10,000 ways that won\\'t work.\\\\u201d\", \"tags\": [\"edison\", \"failure\", \"inspirational\", \"paraphrased\"]},\\n',\n",
       " '{\"author\": \"Eleanor Roosevelt\", \"text\": \"\\\\u201cA woman is like a tea bag; you never know how strong it is until it\\'s in hot water.\\\\u201d\", \"tags\": [\"misattributed-eleanor-roosevelt\"]},\\n',\n",
       " '{\"author\": \"Steve Martin\", \"text\": \"\\\\u201cA day without sunshine is like, you know, night.\\\\u201d\", \"tags\": [\"humor\", \"obvious\", \"simile\"]},\\n',\n",
       " '{\"author\": \"Marilyn Monroe\", \"text\": \"\\\\u201cThis life is what you make it. No matter what, you\\'re going to mess up sometimes, it\\'s a universal truth. But the good part is you get to decide how you\\'re going to mess it up. Girls will be your friends - they\\'ll act like it anyway. But just remember, some come, some go. The ones that stay with you through everything - they\\'re your true best friends. Don\\'t let go of them. Also remember, sisters make the best friends in the world. As for lovers, well, they\\'ll come and go too. And baby, I hate to say it, most of them - actually pretty much all of them are going to break your heart, but you can\\'t give up because if you give up, you\\'ll never find your soulmate. You\\'ll never find that half who makes you whole and that goes for everything. Just because you fail once, doesn\\'t mean you\\'re gonna fail at everything. Keep trying, hold on, and always, always, always believe in yourself, because if you don\\'t, then who will, sweetie? So keep your head high, keep your chin up, and most importantly, keep smiling, because life\\'s a beautiful thing and there\\'s so much to smile about.\\\\u201d\", \"tags\": [\"friends\", \"heartbreak\", \"inspirational\", \"life\", \"love\", \"sisters\"]},\\n',\n",
       " '{\"author\": \"J.K. Rowling\", \"text\": \"\\\\u201cIt takes a great deal of bravery to stand up to our enemies, but just as much to stand up to our friends.\\\\u201d\", \"tags\": [\"courage\", \"friends\"]},\\n',\n",
       " '{\"author\": \"Albert Einstein\", \"text\": \"\\\\u201cIf you can\\'t explain it to a six year old, you don\\'t understand it yourself.\\\\u201d\", \"tags\": [\"simplicity\", \"understand\"]},\\n',\n",
       " '{\"author\": \"Bob Marley\", \"text\": \"\\\\u201cYou may not be her first, her last, or her only. She loved before she may love again. But if she loves you now, what else matters? She\\'s not perfect\\\\u2014you aren\\'t either, and the two of you may never be perfect together but if she can make you laugh, cause you to think twice, and admit to being human and making mistakes, hold onto her and give her the most you can. She may not be thinking about you every second of the day, but she will give you a part of her that she knows you can break\\\\u2014her heart. So don\\'t hurt her, don\\'t change her, don\\'t analyze and don\\'t expect more than she can give. Smile when she makes you happy, let her know when she makes you mad, and miss her when she\\'s not there.\\\\u201d\", \"tags\": [\"love\"]},\\n',\n",
       " '{\"author\": \"Dr. Seuss\", \"text\": \"\\\\u201cI like nonsense, it wakes up the brain cells. Fantasy is a necessary ingredient in living.\\\\u201d\", \"tags\": [\"fantasy\"]},\\n',\n",
       " '{\"author\": \"Douglas Adams\", \"text\": \"\\\\u201cI may not have gone where I intended to go, but I think I have ended up where I needed to be.\\\\u201d\", \"tags\": [\"life\", \"navigation\"]},\\n',\n",
       " '{\"author\": \"Elie Wiesel\", \"text\": \"\\\\u201cThe opposite of love is not hate, it\\'s indifference. The opposite of art is not ugliness, it\\'s indifference. The opposite of faith is not heresy, it\\'s indifference. And the opposite of life is not death, it\\'s indifference.\\\\u201d\", \"tags\": [\"activism\", \"apathy\", \"hate\", \"indifference\", \"inspirational\", \"love\", \"opposite\", \"philosophy\"]},\\n',\n",
       " '{\"author\": \"Friedrich Nietzsche\", \"text\": \"\\\\u201cIt is not a lack of love, but a lack of friendship that makes unhappy marriages.\\\\u201d\", \"tags\": [\"friendship\", \"lack-of-friendship\", \"lack-of-love\", \"love\", \"marriage\", \"unhappy-marriage\"]},\\n',\n",
       " '{\"author\": \"Mark Twain\", \"text\": \"\\\\u201cGood friends, good books, and a sleepy conscience: this is the ideal life.\\\\u201d\", \"tags\": [\"books\", \"contentment\", \"friends\", \"friendship\", \"life\"]},\\n',\n",
       " '{\"author\": \"Allen Saunders\", \"text\": \"\\\\u201cLife is what happens to us while we are making other plans.\\\\u201d\", \"tags\": [\"fate\", \"life\", \"misattributed-john-lennon\", \"planning\", \"plans\"]}\\n',\n",
       " ']']"
      ]
     },
     "execution_count": 4,
     "metadata": {},
     "output_type": "execute_result"
    }
   ],
   "source": [
    "open('quoteresult.json').readlines()[:25]"
   ]
  },
  {
   "cell_type": "code",
   "execution_count": 9,
   "metadata": {
    "collapsed": false
   },
   "outputs": [
    {
     "data": {
      "text/plain": [
       "'Albert Einstein'"
      ]
     },
     "execution_count": 9,
     "metadata": {},
     "output_type": "execute_result"
    }
   ],
   "source": [
    "import json\n",
    "quoteresult = json.load(open('quoteresult.json'))\n",
    "quoteresult[0]['author']"
   ]
  },
  {
   "cell_type": "code",
   "execution_count": 5,
   "metadata": {
    "collapsed": false
   },
   "outputs": [],
   "source": [
    "import pandas as pd"
   ]
  },
  {
   "cell_type": "code",
   "execution_count": 6,
   "metadata": {
    "collapsed": false
   },
   "outputs": [
    {
     "data": {
      "text/html": [
       "<div>\n",
       "<style scoped>\n",
       "    .dataframe tbody tr th:only-of-type {\n",
       "        vertical-align: middle;\n",
       "    }\n",
       "\n",
       "    .dataframe tbody tr th {\n",
       "        vertical-align: top;\n",
       "    }\n",
       "\n",
       "    .dataframe thead th {\n",
       "        text-align: right;\n",
       "    }\n",
       "</style>\n",
       "<table border=\"1\" class=\"dataframe\">\n",
       "  <thead>\n",
       "    <tr style=\"text-align: right;\">\n",
       "      <th></th>\n",
       "      <th>author</th>\n",
       "      <th>tags</th>\n",
       "      <th>text</th>\n",
       "    </tr>\n",
       "  </thead>\n",
       "  <tbody>\n",
       "    <tr>\n",
       "      <th>0</th>\n",
       "      <td>Albert Einstein</td>\n",
       "      <td>[change, deep-thoughts, thinking, world]</td>\n",
       "      <td>“The world as we have created it is a process ...</td>\n",
       "    </tr>\n",
       "    <tr>\n",
       "      <th>1</th>\n",
       "      <td>J.K. Rowling</td>\n",
       "      <td>[abilities, choices]</td>\n",
       "      <td>“It is our choices, Harry, that show what we t...</td>\n",
       "    </tr>\n",
       "    <tr>\n",
       "      <th>2</th>\n",
       "      <td>Albert Einstein</td>\n",
       "      <td>[inspirational, life, live, miracle, miracles]</td>\n",
       "      <td>“There are only two ways to live your life. On...</td>\n",
       "    </tr>\n",
       "    <tr>\n",
       "      <th>3</th>\n",
       "      <td>Jane Austen</td>\n",
       "      <td>[aliteracy, books, classic, humor]</td>\n",
       "      <td>“The person, be it gentleman or lady, who has ...</td>\n",
       "    </tr>\n",
       "    <tr>\n",
       "      <th>4</th>\n",
       "      <td>Marilyn Monroe</td>\n",
       "      <td>[be-yourself, inspirational]</td>\n",
       "      <td>“Imperfection is beauty, madness is genius and...</td>\n",
       "    </tr>\n",
       "    <tr>\n",
       "      <th>5</th>\n",
       "      <td>Albert Einstein</td>\n",
       "      <td>[adulthood, success, value]</td>\n",
       "      <td>“Try not to become a man of success. Rather be...</td>\n",
       "    </tr>\n",
       "    <tr>\n",
       "      <th>6</th>\n",
       "      <td>André Gide</td>\n",
       "      <td>[life, love]</td>\n",
       "      <td>“It is better to be hated for what you are tha...</td>\n",
       "    </tr>\n",
       "    <tr>\n",
       "      <th>7</th>\n",
       "      <td>Thomas A. Edison</td>\n",
       "      <td>[edison, failure, inspirational, paraphrased]</td>\n",
       "      <td>“I have not failed. I've just found 10,000 way...</td>\n",
       "    </tr>\n",
       "    <tr>\n",
       "      <th>8</th>\n",
       "      <td>Eleanor Roosevelt</td>\n",
       "      <td>[misattributed-eleanor-roosevelt]</td>\n",
       "      <td>“A woman is like a tea bag; you never know how...</td>\n",
       "    </tr>\n",
       "    <tr>\n",
       "      <th>9</th>\n",
       "      <td>Steve Martin</td>\n",
       "      <td>[humor, obvious, simile]</td>\n",
       "      <td>“A day without sunshine is like, you know, nig...</td>\n",
       "    </tr>\n",
       "    <tr>\n",
       "      <th>10</th>\n",
       "      <td>Marilyn Monroe</td>\n",
       "      <td>[friends, heartbreak, inspirational, life, lov...</td>\n",
       "      <td>“This life is what you make it. No matter what...</td>\n",
       "    </tr>\n",
       "    <tr>\n",
       "      <th>11</th>\n",
       "      <td>J.K. Rowling</td>\n",
       "      <td>[courage, friends]</td>\n",
       "      <td>“It takes a great deal of bravery to stand up ...</td>\n",
       "    </tr>\n",
       "    <tr>\n",
       "      <th>12</th>\n",
       "      <td>Albert Einstein</td>\n",
       "      <td>[simplicity, understand]</td>\n",
       "      <td>“If you can't explain it to a six year old, yo...</td>\n",
       "    </tr>\n",
       "    <tr>\n",
       "      <th>13</th>\n",
       "      <td>Bob Marley</td>\n",
       "      <td>[love]</td>\n",
       "      <td>“You may not be her first, her last, or her on...</td>\n",
       "    </tr>\n",
       "    <tr>\n",
       "      <th>14</th>\n",
       "      <td>Dr. Seuss</td>\n",
       "      <td>[fantasy]</td>\n",
       "      <td>“I like nonsense, it wakes up the brain cells....</td>\n",
       "    </tr>\n",
       "    <tr>\n",
       "      <th>15</th>\n",
       "      <td>Douglas Adams</td>\n",
       "      <td>[life, navigation]</td>\n",
       "      <td>“I may not have gone where I intended to go, b...</td>\n",
       "    </tr>\n",
       "    <tr>\n",
       "      <th>16</th>\n",
       "      <td>Elie Wiesel</td>\n",
       "      <td>[activism, apathy, hate, indifference, inspira...</td>\n",
       "      <td>“The opposite of love is not hate, it's indiff...</td>\n",
       "    </tr>\n",
       "    <tr>\n",
       "      <th>17</th>\n",
       "      <td>Friedrich Nietzsche</td>\n",
       "      <td>[friendship, lack-of-friendship, lack-of-love,...</td>\n",
       "      <td>“It is not a lack of love, but a lack of frien...</td>\n",
       "    </tr>\n",
       "    <tr>\n",
       "      <th>18</th>\n",
       "      <td>Mark Twain</td>\n",
       "      <td>[books, contentment, friends, friendship, life]</td>\n",
       "      <td>“Good friends, good books, and a sleepy consci...</td>\n",
       "    </tr>\n",
       "    <tr>\n",
       "      <th>19</th>\n",
       "      <td>Allen Saunders</td>\n",
       "      <td>[fate, life, misattributed-john-lennon, planni...</td>\n",
       "      <td>“Life is what happens to us while we are makin...</td>\n",
       "    </tr>\n",
       "  </tbody>\n",
       "</table>\n",
       "</div>"
      ],
      "text/plain": [
       "                 author                                               tags  \\\n",
       "0       Albert Einstein           [change, deep-thoughts, thinking, world]   \n",
       "1          J.K. Rowling                               [abilities, choices]   \n",
       "2       Albert Einstein     [inspirational, life, live, miracle, miracles]   \n",
       "3           Jane Austen                 [aliteracy, books, classic, humor]   \n",
       "4        Marilyn Monroe                       [be-yourself, inspirational]   \n",
       "5       Albert Einstein                        [adulthood, success, value]   \n",
       "6            André Gide                                       [life, love]   \n",
       "7      Thomas A. Edison      [edison, failure, inspirational, paraphrased]   \n",
       "8     Eleanor Roosevelt                  [misattributed-eleanor-roosevelt]   \n",
       "9          Steve Martin                           [humor, obvious, simile]   \n",
       "10       Marilyn Monroe  [friends, heartbreak, inspirational, life, lov...   \n",
       "11         J.K. Rowling                                 [courage, friends]   \n",
       "12      Albert Einstein                           [simplicity, understand]   \n",
       "13           Bob Marley                                             [love]   \n",
       "14            Dr. Seuss                                          [fantasy]   \n",
       "15        Douglas Adams                                 [life, navigation]   \n",
       "16          Elie Wiesel  [activism, apathy, hate, indifference, inspira...   \n",
       "17  Friedrich Nietzsche  [friendship, lack-of-friendship, lack-of-love,...   \n",
       "18           Mark Twain    [books, contentment, friends, friendship, life]   \n",
       "19       Allen Saunders  [fate, life, misattributed-john-lennon, planni...   \n",
       "\n",
       "                                                 text  \n",
       "0   “The world as we have created it is a process ...  \n",
       "1   “It is our choices, Harry, that show what we t...  \n",
       "2   “There are only two ways to live your life. On...  \n",
       "3   “The person, be it gentleman or lady, who has ...  \n",
       "4   “Imperfection is beauty, madness is genius and...  \n",
       "5   “Try not to become a man of success. Rather be...  \n",
       "6   “It is better to be hated for what you are tha...  \n",
       "7   “I have not failed. I've just found 10,000 way...  \n",
       "8   “A woman is like a tea bag; you never know how...  \n",
       "9   “A day without sunshine is like, you know, nig...  \n",
       "10  “This life is what you make it. No matter what...  \n",
       "11  “It takes a great deal of bravery to stand up ...  \n",
       "12  “If you can't explain it to a six year old, yo...  \n",
       "13  “You may not be her first, her last, or her on...  \n",
       "14  “I like nonsense, it wakes up the brain cells....  \n",
       "15  “I may not have gone where I intended to go, b...  \n",
       "16  “The opposite of love is not hate, it's indiff...  \n",
       "17  “It is not a lack of love, but a lack of frien...  \n",
       "18  “Good friends, good books, and a sleepy consci...  \n",
       "19  “Life is what happens to us while we are makin...  "
      ]
     },
     "execution_count": 6,
     "metadata": {},
     "output_type": "execute_result"
    }
   ],
   "source": [
    "df = pd.read_json('quoteresult.json')\n",
    "df"
   ]
  },
  {
   "cell_type": "code",
   "execution_count": null,
   "metadata": {
    "collapsed": true
   },
   "outputs": [],
   "source": []
  }
 ],
 "metadata": {
  "kernelspec": {
   "display_name": "Python 3",
   "language": "python",
   "name": "python3"
  },
  "language_info": {
   "codemirror_mode": {
    "name": "ipython",
    "version": 3
   },
   "file_extension": ".py",
   "mimetype": "text/x-python",
   "name": "python",
   "nbconvert_exporter": "python",
   "pygments_lexer": "ipython3",
   "version": "3.4.3"
  }
 },
 "nbformat": 4,
 "nbformat_minor": 0
}
